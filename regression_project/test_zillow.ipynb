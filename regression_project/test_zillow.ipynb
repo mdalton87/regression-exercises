{
 "cells": [
  {
   "cell_type": "code",
   "execution_count": 1,
   "metadata": {},
   "outputs": [],
   "source": [
    "# ignore warnings\n",
    "import warnings\n",
    "warnings.filterwarnings(\"ignore\")\n",
    "\n",
    "# Data getting, cleaning, and exploring\n",
    "import wrangle as w\n",
    "import explore as ex\n",
    "import evaluate\n",
    "\n",
    "# Python without these is hard\n",
    "import pandas as pd\n",
    "import numpy as np\n",
    "from pydataset import data\n",
    "from scipy import stats\n",
    "\n",
    "# Machine Learning\n",
    "from sklearn.model_selection import train_test_split\n",
    "from sklearn.tree import export_graphviz\n",
    "from sklearn.metrics import confusion_matrix\n",
    "import sklearn.preprocessing\n",
    "from sklearn.preprocessing import MinMaxScaler \n",
    "from sklearn.impute import SimpleImputer\n",
    "# Regression Modeling\n",
    "from sklearn.metrics import mean_squared_error\n",
    "from sklearn.linear_model import LinearRegression, LassoLars, TweedieRegressor\n",
    "from sklearn.preprocessing import PolynomialFeatures\n",
    "\n",
    "# Visualization\n",
    "import matplotlib.pyplot as plt\n",
    "%matplotlib inline\n",
    "import seaborn as sns\n",
    "import graphviz\n",
    "from graphviz import Graph"
   ]
  },
  {
   "cell_type": "markdown",
   "metadata": {},
   "source": [
    "# Wrangle"
   ]
  },
  {
   "cell_type": "code",
   "execution_count": 2,
   "metadata": {},
   "outputs": [],
   "source": [
    "# w.new_zillow_data()"
   ]
  },
  {
   "cell_type": "code",
   "execution_count": 3,
   "metadata": {},
   "outputs": [],
   "source": [
    "# df = w.get_zillow_data(cached=True) "
   ]
  },
  {
   "cell_type": "code",
   "execution_count": 4,
   "metadata": {},
   "outputs": [],
   "source": [
    "# df.shape"
   ]
  },
  {
   "cell_type": "code",
   "execution_count": 5,
   "metadata": {},
   "outputs": [],
   "source": [
    "# df.isnull().sum()"
   ]
  },
  {
   "cell_type": "code",
   "execution_count": 6,
   "metadata": {},
   "outputs": [],
   "source": [
    "# # there are a lot of nulls in this dataset, \n",
    "# thresh = df.shape[0] - (df.shape[0] * .15)"
   ]
  },
  {
   "cell_type": "code",
   "execution_count": 7,
   "metadata": {},
   "outputs": [],
   "source": [
    "# df.shape[0]-thresh"
   ]
  },
  {
   "cell_type": "code",
   "execution_count": 8,
   "metadata": {},
   "outputs": [],
   "source": [
    "# df = df.dropna(axis=1,thresh=thresh)"
   ]
  },
  {
   "cell_type": "code",
   "execution_count": 9,
   "metadata": {},
   "outputs": [],
   "source": [
    "# df.isnull().sum()"
   ]
  },
  {
   "cell_type": "code",
   "execution_count": 10,
   "metadata": {},
   "outputs": [],
   "source": [
    "# df.drop(columns=['calculatedbathnbr','calculatedfinishedsquarefeet','fullbathcnt','finishedsquarefeet12','lotsizesquarefeet'], inplace=True)"
   ]
  },
  {
   "cell_type": "code",
   "execution_count": 11,
   "metadata": {},
   "outputs": [],
   "source": [
    "# region_df = df[['regionidzip','regionidcity','regionidcounty','fips']]"
   ]
  },
  {
   "cell_type": "code",
   "execution_count": 12,
   "metadata": {},
   "outputs": [],
   "source": [
    "# df.assessmentyear.value_counts()"
   ]
  },
  {
   "cell_type": "code",
   "execution_count": 13,
   "metadata": {},
   "outputs": [],
   "source": [
    "# features = ['parcelid','bathroomcnt','bedroomcnt','calculatedfinishedsquarefeet','fips','latitude','longitude','yearbuilt','taxvaluedollarcnt','transactiondate','taxamount']"
   ]
  },
  {
   "cell_type": "code",
   "execution_count": 14,
   "metadata": {},
   "outputs": [],
   "source": [
    "# df = df[features]"
   ]
  },
  {
   "cell_type": "code",
   "execution_count": 15,
   "metadata": {},
   "outputs": [],
   "source": [
    "# df.set_index('parcelid', inplace=True)"
   ]
  },
  {
   "cell_type": "code",
   "execution_count": 16,
   "metadata": {},
   "outputs": [],
   "source": [
    "# list(df.columns)"
   ]
  },
  {
   "cell_type": "code",
   "execution_count": 17,
   "metadata": {},
   "outputs": [],
   "source": [
    "# df.columns = ['bathrooms',\n",
    "#              'bedrooms',\n",
    "#              'square_feet',\n",
    "#              'fips',\n",
    "#              'latitude',\n",
    "#              'longitude',\n",
    "#              'year_built',\n",
    "#              'tax_value',\n",
    "#              'transaction_date',\n",
    "#              'tax_amount']"
   ]
  },
  {
   "cell_type": "code",
   "execution_count": 18,
   "metadata": {},
   "outputs": [],
   "source": [
    "# df.info()"
   ]
  },
  {
   "cell_type": "code",
   "execution_count": 19,
   "metadata": {},
   "outputs": [],
   "source": [
    "# df.isnull().sum()"
   ]
  },
  {
   "cell_type": "code",
   "execution_count": 20,
   "metadata": {},
   "outputs": [],
   "source": [
    "# df = df.dropna()"
   ]
  },
  {
   "cell_type": "code",
   "execution_count": 21,
   "metadata": {},
   "outputs": [],
   "source": [
    "# df.info()"
   ]
  },
  {
   "cell_type": "code",
   "execution_count": 22,
   "metadata": {},
   "outputs": [],
   "source": [
    "# df.fips = df.fips.astype(int)"
   ]
  },
  {
   "cell_type": "code",
   "execution_count": 23,
   "metadata": {},
   "outputs": [],
   "source": [
    "# df.year_built = df.year_built.astype(int)"
   ]
  },
  {
   "cell_type": "code",
   "execution_count": 24,
   "metadata": {},
   "outputs": [],
   "source": [
    "# df['age_of_home'] = (2021 - df.year_built)"
   ]
  },
  {
   "cell_type": "code",
   "execution_count": 25,
   "metadata": {},
   "outputs": [],
   "source": [
    "# df.info()"
   ]
  },
  {
   "cell_type": "code",
   "execution_count": 26,
   "metadata": {},
   "outputs": [],
   "source": [
    "# df = ex.remove_outliers(df, 'square_feet', multiplier=1.5)"
   ]
  },
  {
   "cell_type": "code",
   "execution_count": 27,
   "metadata": {},
   "outputs": [],
   "source": [
    "# df = ex.remove_outliers(df, 'tax_value', multiplier=1.5)"
   ]
  },
  {
   "cell_type": "code",
   "execution_count": 28,
   "metadata": {},
   "outputs": [],
   "source": [
    "# df.info()"
   ]
  },
  {
   "cell_type": "code",
   "execution_count": 29,
   "metadata": {},
   "outputs": [],
   "source": [
    "df = w.wrangle_zillow()"
   ]
  },
  {
   "cell_type": "code",
   "execution_count": 30,
   "metadata": {},
   "outputs": [
    {
     "name": "stdout",
     "output_type": "stream",
     "text": [
      "<class 'pandas.core.frame.DataFrame'>\n",
      "Int64Index: 35641 entries, 14634203 to 17073441\n",
      "Data columns (total 11 columns):\n",
      " #   Column          Non-Null Count  Dtype  \n",
      "---  ------          --------------  -----  \n",
      " 0   bathrooms       35641 non-null  float64\n",
      " 1   bedrooms        35641 non-null  float64\n",
      " 2   square_feet     35641 non-null  float64\n",
      " 3   fips            35641 non-null  int64  \n",
      " 4   latitude        35641 non-null  float64\n",
      " 5   longitude       35641 non-null  float64\n",
      " 6   year_built      35641 non-null  int64  \n",
      " 7   tax_value       35641 non-null  float64\n",
      " 8   age_of_home     35641 non-null  int64  \n",
      " 9   price_per_sqft  35641 non-null  float64\n",
      " 10  beds_and_baths  35641 non-null  float64\n",
      "dtypes: float64(8), int64(3)\n",
      "memory usage: 3.3 MB\n"
     ]
    }
   ],
   "source": [
    "df.info()"
   ]
  },
  {
   "cell_type": "code",
   "execution_count": 31,
   "metadata": {},
   "outputs": [
    {
     "data": {
      "text/html": [
       "<div>\n",
       "<style scoped>\n",
       "    .dataframe tbody tr th:only-of-type {\n",
       "        vertical-align: middle;\n",
       "    }\n",
       "\n",
       "    .dataframe tbody tr th {\n",
       "        vertical-align: top;\n",
       "    }\n",
       "\n",
       "    .dataframe thead th {\n",
       "        text-align: right;\n",
       "    }\n",
       "</style>\n",
       "<table border=\"1\" class=\"dataframe\">\n",
       "  <thead>\n",
       "    <tr style=\"text-align: right;\">\n",
       "      <th></th>\n",
       "      <th>bathrooms</th>\n",
       "      <th>bedrooms</th>\n",
       "      <th>square_feet</th>\n",
       "      <th>fips</th>\n",
       "      <th>latitude</th>\n",
       "      <th>longitude</th>\n",
       "      <th>year_built</th>\n",
       "      <th>tax_value</th>\n",
       "      <th>age_of_home</th>\n",
       "      <th>price_per_sqft</th>\n",
       "      <th>beds_and_baths</th>\n",
       "    </tr>\n",
       "    <tr>\n",
       "      <th>parcelid</th>\n",
       "      <th></th>\n",
       "      <th></th>\n",
       "      <th></th>\n",
       "      <th></th>\n",
       "      <th></th>\n",
       "      <th></th>\n",
       "      <th></th>\n",
       "      <th></th>\n",
       "      <th></th>\n",
       "      <th></th>\n",
       "      <th></th>\n",
       "    </tr>\n",
       "  </thead>\n",
       "  <tbody>\n",
       "    <tr>\n",
       "      <th>14634203</th>\n",
       "      <td>2.0</td>\n",
       "      <td>3.0</td>\n",
       "      <td>1125.0</td>\n",
       "      <td>6059</td>\n",
       "      <td>33922098.0</td>\n",
       "      <td>-117954970.0</td>\n",
       "      <td>1974</td>\n",
       "      <td>289445.0</td>\n",
       "      <td>47</td>\n",
       "      <td>257.284444</td>\n",
       "      <td>5.0</td>\n",
       "    </tr>\n",
       "    <tr>\n",
       "      <th>11721753</th>\n",
       "      <td>2.0</td>\n",
       "      <td>3.0</td>\n",
       "      <td>1316.0</td>\n",
       "      <td>6037</td>\n",
       "      <td>34033180.0</td>\n",
       "      <td>-118355396.0</td>\n",
       "      <td>1923</td>\n",
       "      <td>205123.0</td>\n",
       "      <td>98</td>\n",
       "      <td>155.868541</td>\n",
       "      <td>5.0</td>\n",
       "    </tr>\n",
       "    <tr>\n",
       "      <th>11289917</th>\n",
       "      <td>2.0</td>\n",
       "      <td>3.0</td>\n",
       "      <td>1458.0</td>\n",
       "      <td>6037</td>\n",
       "      <td>34686163.0</td>\n",
       "      <td>-118113100.0</td>\n",
       "      <td>1970</td>\n",
       "      <td>136104.0</td>\n",
       "      <td>51</td>\n",
       "      <td>93.349794</td>\n",
       "      <td>5.0</td>\n",
       "    </tr>\n",
       "    <tr>\n",
       "      <th>11637029</th>\n",
       "      <td>2.0</td>\n",
       "      <td>3.0</td>\n",
       "      <td>1766.0</td>\n",
       "      <td>6037</td>\n",
       "      <td>34073222.0</td>\n",
       "      <td>-118390965.0</td>\n",
       "      <td>1980</td>\n",
       "      <td>810694.0</td>\n",
       "      <td>41</td>\n",
       "      <td>459.056625</td>\n",
       "      <td>5.0</td>\n",
       "    </tr>\n",
       "    <tr>\n",
       "      <th>11705026</th>\n",
       "      <td>1.0</td>\n",
       "      <td>2.0</td>\n",
       "      <td>1421.0</td>\n",
       "      <td>6037</td>\n",
       "      <td>33999877.0</td>\n",
       "      <td>-118291863.0</td>\n",
       "      <td>1911</td>\n",
       "      <td>35606.0</td>\n",
       "      <td>110</td>\n",
       "      <td>25.057002</td>\n",
       "      <td>3.0</td>\n",
       "    </tr>\n",
       "  </tbody>\n",
       "</table>\n",
       "</div>"
      ],
      "text/plain": [
       "          bathrooms  bedrooms  square_feet  fips    latitude    longitude  \\\n",
       "parcelid                                                                    \n",
       "14634203        2.0       3.0       1125.0  6059  33922098.0 -117954970.0   \n",
       "11721753        2.0       3.0       1316.0  6037  34033180.0 -118355396.0   \n",
       "11289917        2.0       3.0       1458.0  6037  34686163.0 -118113100.0   \n",
       "11637029        2.0       3.0       1766.0  6037  34073222.0 -118390965.0   \n",
       "11705026        1.0       2.0       1421.0  6037  33999877.0 -118291863.0   \n",
       "\n",
       "          year_built  tax_value  age_of_home  price_per_sqft  beds_and_baths  \n",
       "parcelid                                                                      \n",
       "14634203        1974   289445.0           47      257.284444             5.0  \n",
       "11721753        1923   205123.0           98      155.868541             5.0  \n",
       "11289917        1970   136104.0           51       93.349794             5.0  \n",
       "11637029        1980   810694.0           41      459.056625             5.0  \n",
       "11705026        1911    35606.0          110       25.057002             3.0  "
      ]
     },
     "execution_count": 31,
     "metadata": {},
     "output_type": "execute_result"
    }
   ],
   "source": [
    "df.head()"
   ]
  },
  {
   "cell_type": "markdown",
   "metadata": {},
   "source": [
    "# Tax Rate distribution"
   ]
  },
  {
   "cell_type": "code",
   "execution_count": 32,
   "metadata": {},
   "outputs": [],
   "source": [
    "tax_df = w.tax_rate_distribution()"
   ]
  },
  {
   "cell_type": "code",
   "execution_count": 33,
   "metadata": {},
   "outputs": [
    {
     "name": "stdout",
     "output_type": "stream",
     "text": [
      "<class 'pandas.core.frame.DataFrame'>\n",
      "Int64Index: 32213 entries, 14634203 to 17073441\n",
      "Data columns (total 4 columns):\n",
      " #   Column      Non-Null Count  Dtype  \n",
      "---  ------      --------------  -----  \n",
      " 0   fips        32213 non-null  float64\n",
      " 1   tax_value   32213 non-null  float64\n",
      " 2   tax_amount  32213 non-null  float64\n",
      " 3   tax_rate    32213 non-null  float64\n",
      "dtypes: float64(4)\n",
      "memory usage: 1.2 MB\n"
     ]
    }
   ],
   "source": [
    "tax_df.info()"
   ]
  },
  {
   "cell_type": "code",
   "execution_count": 34,
   "metadata": {},
   "outputs": [
    {
     "data": {
      "text/html": [
       "<div>\n",
       "<style scoped>\n",
       "    .dataframe tbody tr th:only-of-type {\n",
       "        vertical-align: middle;\n",
       "    }\n",
       "\n",
       "    .dataframe tbody tr th {\n",
       "        vertical-align: top;\n",
       "    }\n",
       "\n",
       "    .dataframe thead th {\n",
       "        text-align: right;\n",
       "    }\n",
       "</style>\n",
       "<table border=\"1\" class=\"dataframe\">\n",
       "  <thead>\n",
       "    <tr style=\"text-align: right;\">\n",
       "      <th></th>\n",
       "      <th>fips</th>\n",
       "      <th>tax_value</th>\n",
       "      <th>tax_amount</th>\n",
       "      <th>tax_rate</th>\n",
       "    </tr>\n",
       "    <tr>\n",
       "      <th>parcelid</th>\n",
       "      <th></th>\n",
       "      <th></th>\n",
       "      <th></th>\n",
       "      <th></th>\n",
       "    </tr>\n",
       "  </thead>\n",
       "  <tbody>\n",
       "    <tr>\n",
       "      <th>14634203</th>\n",
       "      <td>6059.0</td>\n",
       "      <td>289445.0</td>\n",
       "      <td>3490.16</td>\n",
       "      <td>0.012058</td>\n",
       "    </tr>\n",
       "    <tr>\n",
       "      <th>11721753</th>\n",
       "      <td>6037.0</td>\n",
       "      <td>205123.0</td>\n",
       "      <td>2627.48</td>\n",
       "      <td>0.012809</td>\n",
       "    </tr>\n",
       "  </tbody>\n",
       "</table>\n",
       "</div>"
      ],
      "text/plain": [
       "            fips  tax_value  tax_amount  tax_rate\n",
       "parcelid                                         \n",
       "14634203  6059.0   289445.0     3490.16  0.012058\n",
       "11721753  6037.0   205123.0     2627.48  0.012809"
      ]
     },
     "execution_count": 34,
     "metadata": {},
     "output_type": "execute_result"
    }
   ],
   "source": [
    "tax_df.head(2)"
   ]
  },
  {
   "cell_type": "code",
   "execution_count": 35,
   "metadata": {},
   "outputs": [
    {
     "data": {
      "text/html": [
       "<div>\n",
       "<style scoped>\n",
       "    .dataframe tbody tr th:only-of-type {\n",
       "        vertical-align: middle;\n",
       "    }\n",
       "\n",
       "    .dataframe tbody tr th {\n",
       "        vertical-align: top;\n",
       "    }\n",
       "\n",
       "    .dataframe thead th {\n",
       "        text-align: right;\n",
       "    }\n",
       "</style>\n",
       "<table border=\"1\" class=\"dataframe\">\n",
       "  <thead>\n",
       "    <tr style=\"text-align: right;\">\n",
       "      <th></th>\n",
       "      <th>tax_value</th>\n",
       "      <th>tax_amount</th>\n",
       "      <th>tax_rate</th>\n",
       "    </tr>\n",
       "    <tr>\n",
       "      <th>fips</th>\n",
       "      <th></th>\n",
       "      <th></th>\n",
       "      <th></th>\n",
       "    </tr>\n",
       "  </thead>\n",
       "  <tbody>\n",
       "    <tr>\n",
       "      <th>6037.0</th>\n",
       "      <td>389935.915058</td>\n",
       "      <td>4843.139250</td>\n",
       "      <td>0.012718</td>\n",
       "    </tr>\n",
       "    <tr>\n",
       "      <th>6059.0</th>\n",
       "      <td>448385.581302</td>\n",
       "      <td>5164.518675</td>\n",
       "      <td>0.011725</td>\n",
       "    </tr>\n",
       "    <tr>\n",
       "      <th>6111.0</th>\n",
       "      <td>416642.548092</td>\n",
       "      <td>4712.725178</td>\n",
       "      <td>0.011399</td>\n",
       "    </tr>\n",
       "  </tbody>\n",
       "</table>\n",
       "</div>"
      ],
      "text/plain": [
       "            tax_value   tax_amount  tax_rate\n",
       "fips                                        \n",
       "6037.0  389935.915058  4843.139250  0.012718\n",
       "6059.0  448385.581302  5164.518675  0.011725\n",
       "6111.0  416642.548092  4712.725178  0.011399"
      ]
     },
     "execution_count": 35,
     "metadata": {},
     "output_type": "execute_result"
    }
   ],
   "source": [
    "tax_df.groupby('fips').mean()"
   ]
  },
  {
   "cell_type": "code",
   "execution_count": 36,
   "metadata": {},
   "outputs": [
    {
     "data": {
      "image/png": "[encoded data removed]",
      "text/plain": [
       "<Figure size 432x288 with 1 Axes>"
      ]
     },
     "metadata": {
      "needs_background": "light"
     },
     "output_type": "display_data"
    }
   ],
   "source": [
    "plt.hist(data=tax_df, x='tax_value', bins=100, color='red', alpha=.5, ec='black', label='Tax Value Distribution of 3 Southern Californian Counties')\n",
    "\n",
    "plt.show()"
   ]
  },
  {
   "cell_type": "code",
   "execution_count": 37,
   "metadata": {},
   "outputs": [
    {
     "data": {
      "image/png": "[encoded data removed]",
      "text/plain": [
       "<Figure size 1152x576 with 1 Axes>"
      ]
     },
     "metadata": {
      "needs_background": "light"
     },
     "output_type": "display_data"
    }
   ],
   "source": [
    "plt.figure(figsize=(16,8))\n",
    "\n",
    "plt.hist(data=tax_df[tax_df.fips == 6037], x='tax_rate', bins=100, color='red', alpha=.5, ec='black', label='Los Angeles County')\n",
    "plt.hist(data=tax_df[tax_df.fips == 6059], x='tax_rate',  bins=100, color='green', alpha=.5, ec='black', label='Orange County')\n",
    "plt.hist(data=tax_df[tax_df.fips == 6111], x='tax_rate', bins=100, color=\"blue\", alpha=.5, ec='black', label='Ventura County')\n",
    "\n",
    "plt.title('Tax Rate Distributions of 3 Southern Californian Counties')\n",
    "plt.legend()\n",
    "plt.show()"
   ]
  },
  {
   "cell_type": "code",
   "execution_count": 38,
   "metadata": {},
   "outputs": [
    {
     "data": {
      "image/png": "[encoded data removed]",
      "text/plain": [
       "<Figure size 1152x1152 with 3 Axes>"
      ]
     },
     "metadata": {
      "needs_background": "light"
     },
     "output_type": "display_data"
    }
   ],
   "source": [
    "plt.figure(figsize=(16,16))\n",
    "\n",
    "plt.subplot(3, 1, 1, xlabel='Tax Rate', title='Tax Rate Distribution of Los Angeles County, California')\n",
    "plt.hist(data=tax_df[tax_df.fips == 6037], x='tax_rate', bins=100, color='red', alpha=.5, ec='black')\n",
    "\n",
    "plt.subplot(3, 1, 2, xlabel='Tax Rate', title='Tax Rate Distribution of Orange County, California')\n",
    "plt.hist(data=tax_df[tax_df.fips == 6059], x='tax_rate',  bins=100, color='green', alpha=.5, ec='black')\n",
    "\n",
    "plt.subplot(3, 1, 3, xlabel='Tax Rate', title='Tax Rate Distribution of Ventura County, California')\n",
    "plt.hist(data=tax_df[tax_df.fips == 6111], x='tax_rate', bins=100, color=\"blue\", alpha=.5, ec='black')\n",
    "\n",
    "plt.subplots_adjust(hspace=.4)\n",
    "plt.show()\n"
   ]
  },
  {
   "cell_type": "markdown",
   "metadata": {},
   "source": [
    "# Exploration"
   ]
  },
  {
   "cell_type": "code",
   "execution_count": 39,
   "metadata": {},
   "outputs": [],
   "source": [
    "target = 'tax_value'"
   ]
  },
  {
   "cell_type": "code",
   "execution_count": 40,
   "metadata": {},
   "outputs": [
    {
     "data": {
      "text/plain": [
       "['bathrooms',\n",
       " 'bedrooms',\n",
       " 'square_feet',\n",
       " 'year_built',\n",
       " 'age_of_home',\n",
       " 'price_per_sqft',\n",
       " 'beds_and_baths']"
      ]
     },
     "execution_count": 40,
     "metadata": {},
     "output_type": "execute_result"
    }
   ],
   "source": [
    "w.select_kbest(df, target, 7)"
   ]
  },
  {
   "cell_type": "code",
   "execution_count": 41,
   "metadata": {},
   "outputs": [
    {
     "data": {
      "text/plain": [
       "['bathrooms',\n",
       " 'bedrooms',\n",
       " 'square_feet',\n",
       " 'year_built',\n",
       " 'age_of_home',\n",
       " 'price_per_sqft',\n",
       " 'beds_and_baths']"
      ]
     },
     "execution_count": 41,
     "metadata": {},
     "output_type": "execute_result"
    }
   ],
   "source": [
    "w.rfe(df,target,7)"
   ]
  },
  {
   "cell_type": "code",
   "execution_count": 42,
   "metadata": {},
   "outputs": [],
   "source": [
    "train, validate, test, X_train, y_train, X_validate, y_validate, X_test, y_test = w.train_validate_test_split(df, target, 42)"
   ]
  },
  {
   "cell_type": "code",
   "execution_count": 43,
   "metadata": {},
   "outputs": [
    {
     "data": {
      "text/plain": [
       "((19958, 11), (8554, 11), (7129, 11))"
      ]
     },
     "execution_count": 43,
     "metadata": {},
     "output_type": "execute_result"
    }
   ],
   "source": [
    "train.shape, validate.shape, test.shape"
   ]
  },
  {
   "cell_type": "code",
   "execution_count": 44,
   "metadata": {},
   "outputs": [],
   "source": [
    "# sns.pairplot(data=train, hue='tax_value')"
   ]
  },
  {
   "cell_type": "code",
   "execution_count": 45,
   "metadata": {},
   "outputs": [
    {
     "data": {
      "image/png": "[encoded data removed]",
      "text/plain": [
       "<Figure size 720x864 with 4 Axes>"
      ]
     },
     "metadata": {
      "needs_background": "light"
     },
     "output_type": "display_data"
    }
   ],
   "source": [
    "plt.figure(figsize=(10,12))\n",
    "\n",
    "plt.subplot(4, 1, 1, xlabel='Square Feet of Property', title='Distribution of the Square Feet of the Properties')\n",
    "plt.hist(data=train, x='square_feet', bins=50, color='red', alpha=.5, ec='black')\n",
    "\n",
    "plt.subplot(4, 1, 2, xlabel='Number of Bedrooms in Property', title='Distribution of the Number of Bedrooms in the Properties')\n",
    "plt.hist(data=train, x='bedrooms', color='green', alpha=.5, ec='black')\n",
    "\n",
    "plt.subplot(4, 1, 3, xlabel='Number of Bathrooms in Property', title='Distribution of the Number of Bathrooms in the Properties')\n",
    "plt.hist(data=train, x='bathrooms', color='blue', alpha=.5, ec='black')\n",
    "\n",
    "plt.subplot(4, 1, 4, xlabel='Number of Bedrooms and Bathrooms in Property', title='Distribution of the Number of Bedrooms and Bathrooms in the Properties')\n",
    "plt.hist(data=train, x='beds_and_baths', color='orange', alpha=.5, ec='black')\n",
    "\n",
    "\n",
    "plt.subplots_adjust(hspace=.4)\n",
    "\n",
    "plt.show()\n"
   ]
  },
  {
   "cell_type": "code",
   "execution_count": 46,
   "metadata": {},
   "outputs": [
    {
     "data": {
      "image/png": "[encoded data removed]",
      "text/plain": [
       "<Figure size 1440x576 with 1 Axes>"
      ]
     },
     "metadata": {
      "needs_background": "light"
     },
     "output_type": "display_data"
    }
   ],
   "source": [
    "plt.figure(figsize=(20,8))\n",
    "\n",
    "plt.hist(x=train.price_per_sqft, bins=100, ec='black')\n",
    "\n",
    "plt.show()"
   ]
  },
  {
   "cell_type": "code",
   "execution_count": 47,
   "metadata": {},
   "outputs": [
    {
     "data": {
      "text/plain": [
       "<Figure size 1008x720 with 0 Axes>"
      ]
     },
     "metadata": {},
     "output_type": "display_data"
    },
    {
     "data": {
      "image/png": "[encoded data removed]",
      "text/plain": [
       "<Figure size 432x432 with 3 Axes>"
      ]
     },
     "metadata": {
      "needs_background": "light"
     },
     "output_type": "display_data"
    },
    {
     "data": {
      "image/png": "[encoded data removed]",
      "text/plain": [
       "<Figure size 432x432 with 3 Axes>"
      ]
     },
     "metadata": {
      "needs_background": "light"
     },
     "output_type": "display_data"
    }
   ],
   "source": [
    "plt.figure(figsize=(14,10))\n",
    "\n",
    "\n",
    "sns.jointplot(data = train, \n",
    "              x = 'tax_value', \n",
    "              y = 'latitude', \n",
    "              kind = 'kde', \n",
    "              cmap = 'Greens',\n",
    "              fill = True)\n",
    "\n",
    "\n",
    "plt.ylabel('South', loc='bottom')\n",
    "plt.ylabel('Latitude', loc='center')\n",
    "plt.ylabel('North', loc='top') \n",
    "\n",
    "\n",
    "plt.show()\n",
    "\n",
    "sns.jointplot(data = train, \n",
    "              x = 'square_feet', \n",
    "              y = 'latitude', \n",
    "              kind = 'kde', \n",
    "              cmap = 'Blues',\n",
    "              fill = True)\n",
    "\n",
    "plt.show()"
   ]
  },
  {
   "cell_type": "code",
   "execution_count": 48,
   "metadata": {},
   "outputs": [
    {
     "data": {
      "text/plain": [
       "<Figure size 720x576 with 0 Axes>"
      ]
     },
     "metadata": {},
     "output_type": "display_data"
    },
    {
     "data": {
      "image/png": "[encoded data removed]",
      "text/plain": [
       "<Figure size 432x432 with 3 Axes>"
      ]
     },
     "metadata": {
      "needs_background": "light"
     },
     "output_type": "display_data"
    },
    {
     "data": {
      "image/png": "[encoded data removed]",
      "text/plain": [
       "<Figure size 432x432 with 3 Axes>"
      ]
     },
     "metadata": {
      "needs_background": "light"
     },
     "output_type": "display_data"
    }
   ],
   "source": [
    "plt.figure(figsize=(10,8))\n",
    "\n",
    "\n",
    "sns.jointplot(data = train, \n",
    "              x = 'longitude', \n",
    "              y = 'tax_value', \n",
    "              kind = 'kde', \n",
    "              cmap = 'Greens',\n",
    "              fill = True)\n",
    "\n",
    "plt.show()\n",
    "\n",
    "sns.jointplot(data = train, \n",
    "              x = 'longitude', \n",
    "              y = 'square_feet', \n",
    "              kind = 'kde', \n",
    "              cmap = 'Blues',\n",
    "              fill = True)\n",
    "\n",
    "plt.show()"
   ]
  },
  {
   "cell_type": "markdown",
   "metadata": {},
   "source": [
    "# Scale the data"
   ]
  },
  {
   "cell_type": "code",
   "execution_count": 49,
   "metadata": {},
   "outputs": [],
   "source": [
    "object_cols = w.get_object_cols(train)"
   ]
  },
  {
   "cell_type": "code",
   "execution_count": 50,
   "metadata": {},
   "outputs": [],
   "source": [
    "numeric_cols = w.get_numeric_X_cols(X_train, object_cols)"
   ]
  },
  {
   "cell_type": "code",
   "execution_count": 51,
   "metadata": {},
   "outputs": [],
   "source": [
    "X_train_scaled, X_validate_scaled, X_test_scaled = w.min_max_scale(X_train, X_validate, X_test, numeric_cols)"
   ]
  },
  {
   "cell_type": "code",
   "execution_count": 52,
   "metadata": {},
   "outputs": [
    {
     "data": {
      "text/plain": [
       "((19958, 10), (8554, 10), (7129, 10))"
      ]
     },
     "execution_count": 52,
     "metadata": {},
     "output_type": "execute_result"
    }
   ],
   "source": [
    "X_train_scaled.shape, X_validate_scaled.shape, X_test_scaled.shape"
   ]
  },
  {
   "cell_type": "code",
   "execution_count": 53,
   "metadata": {},
   "outputs": [
    {
     "data": {
      "text/plain": [
       "(1.0, 0.0)"
      ]
     },
     "execution_count": 53,
     "metadata": {},
     "output_type": "execute_result"
    }
   ],
   "source": [
    "X_train_scaled.bathrooms.max(), X_train_scaled.bathrooms.min()"
   ]
  },
  {
   "cell_type": "markdown",
   "metadata": {},
   "source": [
    "# Statisical Tests"
   ]
  },
  {
   "cell_type": "markdown",
   "metadata": {},
   "source": [
    "### Overview of Statistical Tests"
   ]
  },
  {
   "cell_type": "markdown",
   "metadata": {},
   "source": [
    "- Correlation tests are used to check if two samples are related. They are often used for feature selection and multivariate analysis in data preprocessing and exploration.\n",
    "\n",
    "- A T-test lets us compare a categorical and a continuous variable by comparing the mean of the continuous variable by subgroups based on the categorical variable\n",
    "\n",
    "All statistical testing will be run using a 95% confidence level, making the alpha value 5% or 0.05. If the p-value is less than the alpha value we can reject the null hypothesis (H<sub>0</sub>) and move forward with the alternate hypothesis (H<sub>1</sub>).\n"
   ]
  },
  {
   "cell_type": "markdown",
   "metadata": {},
   "source": [
    "### Hypotheses"
   ]
  },
  {
   "cell_type": "markdown",
   "metadata": {},
   "source": [
    "For all Correlation tests below: \n",
    "\n",
    "- The H<sub>0</sub> is that there is no correlation between the two samples.\n",
    "\n",
    "- The H<sub>1</sub> is that there is a correlation between the two samples."
   ]
  },
  {
   "cell_type": "markdown",
   "metadata": {},
   "source": [
    "For the T-test:\n",
    "\n",
    "- The H<sub>0</sub> is that there is no difference in the means of the LA County Tax rates.\n",
    "- The H<sub>1</sub> is that the LA County Tax Rate is a different mean than the entire population.\n",
    "\n",
    "Because of the T-test hypothesis, I will be conducting a 1 sample T-test."
   ]
  },
  {
   "cell_type": "code",
   "execution_count": 54,
   "metadata": {},
   "outputs": [
    {
     "data": {
      "text/plain": [
       "(0.3998, 0.0)"
      ]
     },
     "execution_count": 54,
     "metadata": {},
     "output_type": "execute_result"
    }
   ],
   "source": [
    "r, p = stats.pearsonr(X_train_scaled.bathrooms, y_train)\n",
    "round(r,4), round(p, 4)"
   ]
  },
  {
   "cell_type": "code",
   "execution_count": 55,
   "metadata": {},
   "outputs": [
    {
     "data": {
      "text/plain": [
       "(0.2363, 0.0)"
      ]
     },
     "execution_count": 55,
     "metadata": {},
     "output_type": "execute_result"
    }
   ],
   "source": [
    "r, p = stats.pearsonr(X_train_scaled.bedrooms, y_train)\n",
    "round(r,4), round(p, 4)"
   ]
  },
  {
   "cell_type": "code",
   "execution_count": 56,
   "metadata": {},
   "outputs": [
    {
     "data": {
      "text/plain": [
       "(0.4752, 0.0)"
      ]
     },
     "execution_count": 56,
     "metadata": {},
     "output_type": "execute_result"
    }
   ],
   "source": [
    "r, p = stats.pearsonr(X_train_scaled.square_feet, y_train)\n",
    "round(r,4), round(p, 4)"
   ]
  },
  {
   "cell_type": "code",
   "execution_count": 57,
   "metadata": {},
   "outputs": [
    {
     "data": {
      "text/plain": [
       "(0.3497, 0.0)"
      ]
     },
     "execution_count": 57,
     "metadata": {},
     "output_type": "execute_result"
    }
   ],
   "source": [
    "r, p = stats.pearsonr(X_train_scaled.beds_and_baths, y_train)\n",
    "round(r,4), round(p, 4)"
   ]
  },
  {
   "cell_type": "code",
   "execution_count": 58,
   "metadata": {},
   "outputs": [
    {
     "data": {
      "text/plain": [
       "(0.7379, 0.0)"
      ]
     },
     "execution_count": 58,
     "metadata": {},
     "output_type": "execute_result"
    }
   ],
   "source": [
    "r, p = stats.pearsonr(X_train_scaled.bathrooms, X_train_scaled.square_feet)\n",
    "round(r,4), round(p, 4)"
   ]
  },
  {
   "cell_type": "code",
   "execution_count": 59,
   "metadata": {},
   "outputs": [],
   "source": [
    "la_county = tax_df[tax_df.fips == 6037]"
   ]
  },
  {
   "cell_type": "code",
   "execution_count": 60,
   "metadata": {},
   "outputs": [
    {
     "data": {
      "text/plain": [
       "(57.0874, 0.0)"
      ]
     },
     "execution_count": 60,
     "metadata": {},
     "output_type": "execute_result"
    }
   ],
   "source": [
    "t, p = stats.ttest_1samp(la_county.tax_rate, tax_df.tax_rate.mean())\n",
    "round(t,4), round(p, 4)"
   ]
  },
  {
   "cell_type": "markdown",
   "metadata": {},
   "source": [
    "### Results of Statistical Testing"
   ]
  },
  {
   "cell_type": "markdown",
   "metadata": {},
   "source": [
    "Correlation results between the following features:\n",
    "- bathrooms and tax value: t-statistic = 0.3998, p-value = 0.0\n",
    "- bedrooms and tax value: t-statistic = 0.2363, p-value = 0.0\n",
    "- square feet and tax value: t-statistic = 0.4752, p-value = 0.0\n",
    "- total number of bedrooms and bathrooms and tax value: t-statistic = 0.3497, p-value = 0.0\n",
    "- bathrooms and square feet: t-statistic = 0.7379, p-value = 0.0\n",
    "\n",
    "All correlation tests reject the H<sub>0</sub> and can move forward with the corresponding H<sub>1</sub>.\n"
   ]
  },
  {
   "cell_type": "markdown",
   "metadata": {},
   "source": [
    "One Sample T-test results are as follows:\n",
    "\n",
    "- The t-statistic = 57.0874, and the p-value = 0.0.\n",
    "\n",
    "There is enough evidence to reject the H<sub>0</sub> and move forward with the H<sub>1</sub> indicating that the LA country tax rate mean is significantly different from the tax rate of all 3 counties."
   ]
  },
  {
   "cell_type": "markdown",
   "metadata": {},
   "source": [
    "# Modeling"
   ]
  },
  {
   "cell_type": "markdown",
   "metadata": {},
   "source": [
    "## Baseline"
   ]
  },
  {
   "cell_type": "code",
   "execution_count": 61,
   "metadata": {},
   "outputs": [],
   "source": [
    "y_train = pd.DataFrame(y_train)\n",
    "y_validate = pd.DataFrame(y_validate)"
   ]
  },
  {
   "cell_type": "code",
   "execution_count": 62,
   "metadata": {},
   "outputs": [],
   "source": [
    "value_pred_mean = y_train.tax_value.mean()\n",
    "y_train['value_pred_mean'] = value_pred_mean\n",
    "y_validate['value_pred_mean'] = value_pred_mean\n",
    "\n",
    "value_pred_median = y_train.tax_value.median()\n",
    "y_train['value_pred_median'] = value_pred_median\n",
    "y_validate['value_pred_median'] = value_pred_median"
   ]
  },
  {
   "cell_type": "code",
   "execution_count": 63,
   "metadata": {},
   "outputs": [
    {
     "name": "stdout",
     "output_type": "stream",
     "text": [
      "RMSE using Mean\n",
      "Train/In-Sample:  235224.18 \n",
      "Validate/Out-of-Sample:  231200.94\n",
      "RMSE using Median\n",
      "Train/In-Sample:  238289.8 \n",
      "Validate/Out-of-Sample:  234148.42\n"
     ]
    }
   ],
   "source": [
    "# 3. RMSE of value_pred_mean\n",
    "rmse_train = mean_squared_error(y_train.tax_value, y_train.value_pred_mean) ** (1/2)\n",
    "rmse_validate = mean_squared_error(y_validate.tax_value, y_validate.value_pred_mean) ** (1/2)\n",
    "\n",
    "rmse_train_baseline_mean = rmse_train\n",
    "rmse_validate_baseline_mean = rmse_validate\n",
    "\n",
    "print(\"RMSE using Mean\\nTrain/In-Sample: \", round(rmse_train, 2), \n",
    "      \"\\nValidate/Out-of-Sample: \", round(rmse_validate, 2))\n",
    "\n",
    "rmse_train = mean_squared_error(y_train.tax_value, y_train.value_pred_median) ** (1/2)\n",
    "rmse_validate = mean_squared_error(y_validate.tax_value, y_validate.value_pred_median) ** (1/2)\n",
    "\n",
    "rmse_train_baseline_median = rmse_train\n",
    "rmse_validate_baseline_median = rmse_validate\n",
    "\n",
    "print(\"RMSE using Median\\nTrain/In-Sample: \", round(rmse_train, 2), \n",
    "      \"\\nValidate/Out-of-Sample: \", round(rmse_validate, 2))"
   ]
  },
  {
   "cell_type": "markdown",
   "metadata": {},
   "source": [
    "## Linear Regression (OLS)"
   ]
  },
  {
   "cell_type": "code",
   "execution_count": 64,
   "metadata": {},
   "outputs": [],
   "source": [
    "# lm = LinearRegression(normalize=True)\n",
    "\n",
    "\n",
    "# lm.fit(X_train, y_train.tax_value)\n",
    "\n",
    "# # predict train\n",
    "# y_train['value_pred_lm'] = lm.predict(X_train)\n",
    "\n",
    "# # evaluate: rmse\n",
    "# rmse_train = mean_squared_error(y_train.tax_value, y_train.value_pred_lm) ** (1/2)\n",
    "\n",
    "# # predict validate\n",
    "# y_validate['value_pred_lm'] = lm.predict(X_validate)\n",
    "\n",
    "# # evaluate: rmse\n",
    "# rmse_validate = mean_squared_error(y_validate.tax_value, y_validate.value_pred_lm) ** (1/2)\n",
    "\n",
    "# print(\"RMSE for OLS using LinearRegression\\nTraining/In-Sample: \", rmse_train, \n",
    "#       \"\\nValidation/Out-of-Sample: \", rmse_validate)"
   ]
  },
  {
   "cell_type": "markdown",
   "metadata": {},
   "source": [
    "## LassoLars"
   ]
  },
  {
   "cell_type": "code",
   "execution_count": 65,
   "metadata": {},
   "outputs": [
    {
     "name": "stdout",
     "output_type": "stream",
     "text": [
      "RMSE for Lasso + Lars\n",
      "Training/In-Sample:  79376.66846970672 \n",
      "Validation/Out-of-Sample:  71747.83016933007\n"
     ]
    }
   ],
   "source": [
    "# create the model object\n",
    "lars = LassoLars(alpha=1.0)\n",
    "\n",
    "# fit the model to our training data. We must specify the column in y_train, \n",
    "# since we have converted it to a dataframe from a series! \n",
    "lars.fit(X_train, y_train.tax_value)\n",
    "\n",
    "# predict train\n",
    "y_train['value_pred_lars'] = lars.predict(X_train)\n",
    "\n",
    "# evaluate: rmse\n",
    "rmse_train = mean_squared_error(y_train.tax_value, y_train.value_pred_lars) ** (1/2)\n",
    "\n",
    "# predict validate\n",
    "y_validate['value_pred_lars'] = lars.predict(X_validate)\n",
    "\n",
    "# evaluate: rmse\n",
    "rmse_validate = mean_squared_error(y_validate.tax_value, y_validate.value_pred_lars) ** (1/2)\n",
    "\n",
    "print(\"RMSE for Lasso + Lars\\nTraining/In-Sample: \", rmse_train, \n",
    "      \"\\nValidation/Out-of-Sample: \", rmse_validate)"
   ]
  },
  {
   "cell_type": "markdown",
   "metadata": {},
   "source": [
    "## TweedieRegressor (GLM)"
   ]
  },
  {
   "cell_type": "code",
   "execution_count": 66,
   "metadata": {},
   "outputs": [],
   "source": [
    "# # create the model object\n",
    "# glm = TweedieRegressor(power=0, alpha=0)\n",
    "\n",
    "# # fit the model to our training data. We must specify the column in y_train, \n",
    "# # since we have converted it to a dataframe from a series! \n",
    "# glm.fit(X_train, y_train.tax_value)\n",
    "\n",
    "# # predict train\n",
    "# y_train['value_pred_glm'] = glm.predict(X_train)\n",
    "\n",
    "# # evaluate: rmse\n",
    "# rmse_train = mean_squared_error(y_train.tax_value, y_train.value_pred_glm) ** (1/2)\n",
    "\n",
    "# # predict validate\n",
    "# y_validate['value_pred_glm'] = glm.predict(X_validate)\n",
    "\n",
    "# # evaluate: rmse\n",
    "# rmse_validate = mean_squared_error(y_validate.tax_value, y_validate.value_pred_glm) ** (1/2)\n",
    "\n",
    "# print(\"RMSE for GLM using Tweedie, power=1 & alpha=0\\nTraining/In-Sample: \", rmse_train, \n",
    "#       \"\\nValidation/Out-of-Sample: \", rmse_validate)"
   ]
  },
  {
   "cell_type": "markdown",
   "metadata": {},
   "source": [
    "## Polynomial Regression"
   ]
  },
  {
   "cell_type": "code",
   "execution_count": 67,
   "metadata": {},
   "outputs": [],
   "source": [
    "# pf = PolynomialFeatures(degree=2)\n",
    "\n",
    "# # fit and transform X_train_scaled\n",
    "# X_train_degree2 = pf.fit_transform(X_train)\n",
    "\n",
    "# # transform X_validate_scaled & X_test_scaled\n",
    "# X_validate_degree2 = pf.transform(X_validate)\n",
    "# X_test_degree2 = pf.transform(X_test)"
   ]
  },
  {
   "cell_type": "markdown",
   "metadata": {},
   "source": [
    "### LinearRegression"
   ]
  },
  {
   "cell_type": "code",
   "execution_count": 68,
   "metadata": {},
   "outputs": [],
   "source": [
    "# # create the model object\n",
    "# lm2 = LinearRegression(normalize=True)\n",
    "\n",
    "# # fit the model to our training data. We must specify the column in y_train, \n",
    "# # since we have converted it to a dataframe from a series! \n",
    "# lm2.fit(X_train_degree2, y_train.tax_value)\n",
    "\n",
    "# # predict train\n",
    "# y_train['value_pred_lm2'] = lm2.predict(X_train_degree2)\n",
    "\n",
    "# # evaluate: rmse\n",
    "# rmse_train = mean_squared_error(y_train.tax_value, y_train.value_pred_lm2) ** (1/2)\n",
    "\n",
    "# # predict validate\n",
    "# y_validate['value_pred_lm2'] = lm2.predict(X_validate_degree2)\n",
    "\n",
    "# # evaluate: rmse\n",
    "# rmse_validate = mean_squared_error(y_validate.tax_value, y_validate.value_pred_lm2) ** (1/2)\n",
    "\n",
    "# print(\"RMSE for Polynomial Model, degrees=2\\nTraining/In-Sample: \", rmse_train, \n",
    "#       \"\\nValidation/Out-of-Sample: \", rmse_validate)"
   ]
  },
  {
   "cell_type": "markdown",
   "metadata": {},
   "source": [
    "## LassoLars performed best."
   ]
  },
  {
   "cell_type": "code",
   "execution_count": 69,
   "metadata": {},
   "outputs": [],
   "source": [
    "# y_test = pd.DataFrame(y_test)\n",
    "\n",
    "# # predict on test\n",
    "# y_test['value_pred_lm'] = lm.predict(X_test)\n",
    "\n",
    "# # evaluate: rmse\n",
    "# rmse_test = mean_squared_error(y_test.tax_value, y_test.value_pred_lm) ** (1/2)\n",
    "\n",
    "# print(\"RMSE for OLS Model using LinearRegression\\nOut-of-Sample Performance: \", rmse_test)"
   ]
  },
  {
   "cell_type": "code",
   "execution_count": 70,
   "metadata": {},
   "outputs": [
    {
     "name": "stdout",
     "output_type": "stream",
     "text": [
      "RMSE for LassoLars Model\n",
      "Out-of-Sample Performance:  77330.81369205794\n"
     ]
    }
   ],
   "source": [
    "y_test = pd.DataFrame(y_test)\n",
    "\n",
    "# predict on test\n",
    "y_test['value_pred_lars'] = lars.predict(X_test)\n",
    "\n",
    "# evaluate: rmse\n",
    "rmse_test = mean_squared_error(y_test.tax_value, y_test.value_pred_lars) ** (1/2)\n",
    "\n",
    "print(\"RMSE for LassoLars Model\\nOut-of-Sample Performance: \", rmse_test)"
   ]
  },
  {
   "cell_type": "code",
   "execution_count": 71,
   "metadata": {},
   "outputs": [],
   "source": [
    "# y_test = pd.DataFrame(y_test)\n",
    "\n",
    "# # predict on test\n",
    "# y_test['value_pred_glm'] = glm.predict(X_test)\n",
    "\n",
    "# # evaluate: rmse\n",
    "# rmse_test = mean_squared_error(y_test.tax_value, y_test.value_pred_glm) ** (1/2)\n",
    "\n",
    "# print(\"RMSE for TweedieRegressor Model\\nOut-of-Sample Performance: \", rmse_test)"
   ]
  },
  {
   "cell_type": "code",
   "execution_count": 72,
   "metadata": {},
   "outputs": [],
   "source": [
    "# y_test = pd.DataFrame(y_test)\n",
    "\n",
    "# # predict on test\n",
    "# y_test['value_pred_lm2'] = lm2.predict(X_test_degree2)\n",
    "\n",
    "# # evaluate: rmse\n",
    "# rmse_test = mean_squared_error(y_test.tax_value, y_test.value_pred_lm2) ** (1/2)\n",
    "\n",
    "# print(\"RMSE for Polynomial Regression\\nOut-of-Sample Performance: \", rmse_test)"
   ]
  },
  {
   "cell_type": "code",
   "execution_count": 73,
   "metadata": {},
   "outputs": [
    {
     "name": "stdout",
     "output_type": "stream",
     "text": [
      "Baseline Performance:\n",
      "RSME mean: 235224.18441779935\n",
      "RSME median: 238289.80346658424\n",
      "\n",
      "RMSE for Lasso + Lars Train and Validate Performance:\n",
      "Training/In-Sample:  79376.66846970672 \n",
      "Validation/Out-of-Sample:  71747.83016933007 \n",
      "\n",
      "RMSE for LassoLars Model Test Performance:\n",
      "Out-of-Sample Performance:  77330.81369205794\n"
     ]
    }
   ],
   "source": [
    "print(f'Baseline Performance:\\nRSME mean: {rmse_train_baseline_mean}\\nRSME median: {rmse_train_baseline_median}\\n')\n",
    "\n",
    "\n",
    "print(\"RMSE for Lasso + Lars Train and Validate Performance:\\nTraining/In-Sample: \", rmse_train, \n",
    "      \"\\nValidation/Out-of-Sample: \", rmse_validate, '\\n')\n",
    "\n",
    "print(\"RMSE for LassoLars Model Test Performance:\\nOut-of-Sample Performance: \", rmse_test)"
   ]
  }
 ],
 "metadata": {
  "kernelspec": {
   "display_name": "Python 3",
   "language": "python",
   "name": "python3"
  },
  "language_info": {
   "codemirror_mode": {
    "name": "ipython",
    "version": 3
   },
   "file_extension": ".py",
   "mimetype": "text/x-python",
   "name": "python",
   "nbconvert_exporter": "python",
   "pygments_lexer": "ipython3",
   "version": "3.8.5"
  }
 },
 "nbformat": 4,
 "nbformat_minor": 4
}
