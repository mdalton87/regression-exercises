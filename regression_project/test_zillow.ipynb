{
 "cells": [
  {
   "cell_type": "code",
   "execution_count": 1,
   "metadata": {},
   "outputs": [],
   "source": [
    "# ignore warnings\n",
    "import warnings\n",
    "warnings.filterwarnings(\"ignore\")\n",
    "\n",
    "# Data getting, cleaning, and exploring\n",
    "import wrangle as w\n",
    "import explore as ex\n",
    "\n",
    "# Python without these is hard\n",
    "import pandas as pd\n",
    "import numpy as np\n",
    "from pydataset import data\n",
    "\n",
    "# Machine Learning\n",
    "from sklearn.model_selection import train_test_split\n",
    "from sklearn.tree import export_graphviz\n",
    "from sklearn.metrics import confusion_matrix\n",
    "\n",
    "# Visualization\n",
    "import matplotlib.pyplot as plt\n",
    "%matplotlib inline\n",
    "import seaborn as sns\n",
    "import graphviz\n",
    "from graphviz import Graph"
   ]
  },
  {
   "cell_type": "code",
   "execution_count": 2,
   "metadata": {},
   "outputs": [],
   "source": [
    "# w.get_zillow_data()"
   ]
  },
  {
   "cell_type": "code",
   "execution_count": 3,
   "metadata": {},
   "outputs": [],
   "source": [
    "df = w.get_zillow_data(cached=True)"
   ]
  },
  {
   "cell_type": "code",
   "execution_count": 4,
   "metadata": {},
   "outputs": [
    {
     "data": {
      "text/plain": [
       "18652.4"
      ]
     },
     "execution_count": 4,
     "metadata": {},
     "output_type": "execute_result"
    }
   ],
   "source": [
    "# there are a lot of nulls in this dataset, \n",
    "\n",
    "df.shape[0] - (df.shape[0] * .15)"
   ]
  },
  {
   "cell_type": "code",
   "execution_count": 5,
   "metadata": {},
   "outputs": [],
   "source": [
    "# df.isnull().sum().sort_values(ascending=False) "
   ]
  },
  {
   "cell_type": "code",
   "execution_count": 6,
   "metadata": {},
   "outputs": [],
   "source": [
    "df = df.dropna(axis=1,thresh=18653)"
   ]
  },
  {
   "cell_type": "code",
   "execution_count": 7,
   "metadata": {},
   "outputs": [
    {
     "name": "stdout",
     "output_type": "stream",
     "text": [
      "<class 'pandas.core.frame.DataFrame'>\n",
      "Int64Index: 21944 entries, 0 to 21943\n",
      "Data columns (total 29 columns):\n",
      " #   Column                        Non-Null Count  Dtype  \n",
      "---  ------                        --------------  -----  \n",
      " 0   parcelid                      21944 non-null  int64  \n",
      " 1   id                            21944 non-null  int64  \n",
      " 2   bathroomcnt                   21938 non-null  float64\n",
      " 3   bedroomcnt                    21938 non-null  float64\n",
      " 4   calculatedbathnbr             21762 non-null  float64\n",
      " 5   calculatedfinishedsquarefeet  21883 non-null  float64\n",
      " 6   finishedsquarefeet12          20951 non-null  float64\n",
      " 7   fips                          21938 non-null  float64\n",
      " 8   fullbathcnt                   21762 non-null  float64\n",
      " 9   latitude                      21938 non-null  float64\n",
      " 10  longitude                     21938 non-null  float64\n",
      " 11  lotsizesquarefeet             19642 non-null  float64\n",
      " 12  propertycountylandusecode     21938 non-null  object \n",
      " 13  propertylandusetypeid         21938 non-null  float64\n",
      " 14  rawcensustractandblock        21938 non-null  float64\n",
      " 15  regionidcity                  21541 non-null  float64\n",
      " 16  regionidcounty                21938 non-null  float64\n",
      " 17  regionidzip                   21924 non-null  float64\n",
      " 18  roomcnt                       21938 non-null  float64\n",
      " 19  yearbuilt                     21857 non-null  float64\n",
      " 20  structuretaxvaluedollarcnt    21902 non-null  float64\n",
      " 21  taxvaluedollarcnt             21938 non-null  float64\n",
      " 22  assessmentyear                21938 non-null  float64\n",
      " 23  landtaxvaluedollarcnt         21938 non-null  float64\n",
      " 24  taxamount                     21937 non-null  float64\n",
      " 25  censustractandblock           21857 non-null  float64\n",
      " 26  id.1                          21944 non-null  int64  \n",
      " 27  logerror                      21944 non-null  float64\n",
      " 28  transactiondate               21944 non-null  object \n",
      "dtypes: float64(24), int64(3), object(2)\n",
      "memory usage: 5.0+ MB\n"
     ]
    }
   ],
   "source": [
    "df.info()"
   ]
  },
  {
   "cell_type": "code",
   "execution_count": 8,
   "metadata": {},
   "outputs": [],
   "source": [
    "features = ['parcelid', 'bathroomcnt', 'bedroomcnt', 'calculatedfinishedsquarefeet', 'roomcnt', 'regionidzip', 'yearbuilt', 'taxvaluedollarcnt', 'transactiondate']"
   ]
  },
  {
   "cell_type": "code",
   "execution_count": 9,
   "metadata": {},
   "outputs": [],
   "source": [
    "df = df[features]"
   ]
  },
  {
   "cell_type": "code",
   "execution_count": 10,
   "metadata": {},
   "outputs": [],
   "source": [
    "df.set_index('parcelid', inplace=True)"
   ]
  },
  {
   "cell_type": "code",
   "execution_count": 11,
   "metadata": {},
   "outputs": [
    {
     "data": {
      "text/plain": [
       "['bathroomcnt',\n",
       " 'bedroomcnt',\n",
       " 'calculatedfinishedsquarefeet',\n",
       " 'roomcnt',\n",
       " 'regionidzip',\n",
       " 'yearbuilt',\n",
       " 'taxvaluedollarcnt',\n",
       " 'transactiondate']"
      ]
     },
     "execution_count": 11,
     "metadata": {},
     "output_type": "execute_result"
    }
   ],
   "source": [
    "list(df.columns)"
   ]
  },
  {
   "cell_type": "code",
   "execution_count": 12,
   "metadata": {},
   "outputs": [],
   "source": [
    "df.columns = ['bathrooms',\n",
    " 'bedrooms',\n",
    " 'square_feet',\n",
    " 'total_rooms',\n",
    " 'zip_code',\n",
    " 'year_built',\n",
    " 'tax_value',\n",
    " 'transaction_date']"
   ]
  },
  {
   "cell_type": "code",
   "execution_count": 13,
   "metadata": {},
   "outputs": [
    {
     "name": "stdout",
     "output_type": "stream",
     "text": [
      "<class 'pandas.core.frame.DataFrame'>\n",
      "Int64Index: 21944 entries, 11393337 to 13083743\n",
      "Data columns (total 8 columns):\n",
      " #   Column            Non-Null Count  Dtype  \n",
      "---  ------            --------------  -----  \n",
      " 0   bathrooms         21938 non-null  float64\n",
      " 1   bedrooms          21938 non-null  float64\n",
      " 2   square_feet       21883 non-null  float64\n",
      " 3   total_rooms       21938 non-null  float64\n",
      " 4   zip_code          21924 non-null  float64\n",
      " 5   year_built        21857 non-null  float64\n",
      " 6   tax_value         21938 non-null  float64\n",
      " 7   transaction_date  21944 non-null  object \n",
      "dtypes: float64(7), object(1)\n",
      "memory usage: 1.5+ MB\n"
     ]
    },
    {
     "data": {
      "text/plain": [
       "(None,\n",
       " bathrooms              19\n",
       " bedrooms               13\n",
       " square_feet          3728\n",
       " total_rooms            14\n",
       " zip_code              383\n",
       " year_built            129\n",
       " tax_value           17442\n",
       " transaction_date       62\n",
       " dtype: int64)"
      ]
     },
     "execution_count": 13,
     "metadata": {},
     "output_type": "execute_result"
    }
   ],
   "source": [
    "df.info(), df.nunique()"
   ]
  },
  {
   "cell_type": "code",
   "execution_count": 21,
   "metadata": {},
   "outputs": [],
   "source": [
    "cols = list(df.columns)"
   ]
  },
  {
   "cell_type": "code",
   "execution_count": 14,
   "metadata": {},
   "outputs": [],
   "source": [
    "df = ex.remove_outliers(df, 'tax_value', multiplier=1.5)"
   ]
  },
  {
   "cell_type": "code",
   "execution_count": 15,
   "metadata": {},
   "outputs": [
    {
     "data": {
      "text/plain": [
       "(20492, 8)"
      ]
     },
     "execution_count": 15,
     "metadata": {},
     "output_type": "execute_result"
    }
   ],
   "source": [
    "df.shape"
   ]
  },
  {
   "cell_type": "code",
   "execution_count": 18,
   "metadata": {},
   "outputs": [],
   "source": [
    "train, validate, test = w.train_validate_test_split(df)"
   ]
  },
  {
   "cell_type": "code",
   "execution_count": 19,
   "metadata": {},
   "outputs": [
    {
     "data": {
      "text/plain": [
       "((11475, 8), (4918, 8), (4099, 8))"
      ]
     },
     "execution_count": 19,
     "metadata": {},
     "output_type": "execute_result"
    }
   ],
   "source": [
    "train.shape, validate.shape, test.shape"
   ]
  },
  {
   "cell_type": "code",
   "execution_count": 28,
   "metadata": {},
   "outputs": [
    {
     "data": {
      "text/plain": [
       "['bathrooms',\n",
       " 'bedrooms',\n",
       " 'square_feet',\n",
       " 'total_rooms',\n",
       " 'zip_code',\n",
       " 'year_built',\n",
       " 'tax_value',\n",
       " 'transaction_date']"
      ]
     },
     "execution_count": 28,
     "metadata": {},
     "output_type": "execute_result"
    }
   ],
   "source": [
    "list(df.columns)"
   ]
  },
  {
   "cell_type": "code",
   "execution_count": 31,
   "metadata": {},
   "outputs": [],
   "source": [
    "target = 'tax_value'\n",
    "cat_vars = ['zip_code']\n",
    "quant_vars = ['bathrooms','bedrooms','square_feet','total_rooms','year_built', 'transaction_date']"
   ]
  },
  {
   "cell_type": "code",
   "execution_count": null,
   "metadata": {},
   "outputs": [
    {
     "name": "stdout",
     "output_type": "stream",
     "text": [
      "zip_code \n",
      "_____________________\n",
      "\n",
      "           chi2       p-value  degrees of freedom\n",
      "0  3.696075e+06  1.223585e-33             3663414\n",
      "\n",
      "observed:\n",
      " tax_value  15692.0  16514.0  19616.0  19624.0  19833.0  20655.0  21074.0  \\\n",
      "zip_code                                                                   \n",
      "95982.0          0        0        0        0        0        0        0   \n",
      "95983.0          0        0        0        0        1        0        0   \n",
      "95984.0          0        0        0        0        0        0        0   \n",
      "95985.0          0        0        0        0        0        0        0   \n",
      "95986.0          0        0        0        0        0        0        0   \n",
      "...            ...      ...      ...      ...      ...      ...      ...   \n",
      "97330.0          0        0        0        0        0        0        0   \n",
      "97331.0          0        0        0        0        0        0        0   \n",
      "97344.0          0        0        0        0        0        0        0   \n",
      "399675.0         0        0        0        0        0        0        0   \n",
      "All              1        1        1        1        1        1        1   \n",
      "\n",
      "tax_value  21283.0  21567.0  22108.0  ...  1148628.0  1148633.0  1148663.0  \\\n",
      "zip_code                              ...                                    \n",
      "95982.0          0        0        0  ...          0          0          0   \n",
      "95983.0          0        0        0  ...          0          0          0   \n",
      "95984.0          0        0        0  ...          0          0          0   \n",
      "95985.0          0        0        0  ...          0          0          0   \n",
      "95986.0          0        0        0  ...          0          0          0   \n",
      "...            ...      ...      ...  ...        ...        ...        ...   \n",
      "97330.0          0        0        0  ...          0          0          0   \n",
      "97331.0          0        0        0  ...          0          0          0   \n",
      "97344.0          0        0        0  ...          0          0          0   \n",
      "399675.0         0        0        0  ...          0          0          0   \n",
      "All              1        1        1  ...          1          1          1   \n",
      "\n",
      "tax_value  1149783.0  1150000.0  1152000.0  1152676.0  1152751.0  1152850.0  \\\n",
      "zip_code                                                                      \n",
      "95982.0            0          0          0          0          0          0   \n",
      "95983.0            0          0          0          0          0          0   \n",
      "95984.0            0          0          0          0          0          0   \n",
      "95985.0            0          0          0          0          0          0   \n",
      "95986.0            0          0          0          0          0          0   \n",
      "...              ...        ...        ...        ...        ...        ...   \n",
      "97330.0            0          0          0          0          0          0   \n",
      "97331.0            0          0          0          0          0          0   \n",
      "97344.0            0          0          0          0          0          0   \n",
      "399675.0           0          0          0          0          0          0   \n",
      "All                1          2          1          1          1          1   \n",
      "\n",
      "tax_value    All  \n",
      "zip_code          \n",
      "95982.0       15  \n",
      "95983.0       26  \n",
      "95984.0       29  \n",
      "95985.0       27  \n",
      "95986.0       13  \n",
      "...          ...  \n",
      "97330.0       69  \n",
      "97331.0        1  \n",
      "97344.0        7  \n",
      "399675.0       3  \n",
      "All        11470  \n",
      "\n",
      "[381 rows x 9668 columns]\n",
      "\n",
      "expected:\n",
      "          0         1         2         3         4         5         6     \\\n",
      "0    0.001308  0.001308  0.001308  0.001308  0.001308  0.001308  0.001308   \n",
      "1    0.002267  0.002267  0.002267  0.002267  0.002267  0.002267  0.002267   \n",
      "2    0.002528  0.002528  0.002528  0.002528  0.002528  0.002528  0.002528   \n",
      "3    0.002354  0.002354  0.002354  0.002354  0.002354  0.002354  0.002354   \n",
      "4    0.001133  0.001133  0.001133  0.001133  0.001133  0.001133  0.001133   \n",
      "..        ...       ...       ...       ...       ...       ...       ...   \n",
      "375  0.008544  0.008544  0.008544  0.008544  0.008544  0.008544  0.008544   \n",
      "376  0.006016  0.006016  0.006016  0.006016  0.006016  0.006016  0.006016   \n",
      "377  0.000087  0.000087  0.000087  0.000087  0.000087  0.000087  0.000087   \n",
      "378  0.000610  0.000610  0.000610  0.000610  0.000610  0.000610  0.000610   \n",
      "379  0.000262  0.000262  0.000262  0.000262  0.000262  0.000262  0.000262   \n",
      "\n",
      "         7         8         9     ...      9657      9658      9659  \\\n",
      "0    0.001308  0.001308  0.001308  ...  0.001308  0.001308  0.001308   \n",
      "1    0.002267  0.002267  0.002267  ...  0.002267  0.002267  0.002267   \n",
      "2    0.002528  0.002528  0.002528  ...  0.002528  0.002528  0.002528   \n",
      "3    0.002354  0.002354  0.002354  ...  0.002354  0.002354  0.002354   \n",
      "4    0.001133  0.001133  0.001133  ...  0.001133  0.001133  0.001133   \n",
      "..        ...       ...       ...  ...       ...       ...       ...   \n",
      "375  0.008544  0.008544  0.008544  ...  0.008544  0.008544  0.008544   \n",
      "376  0.006016  0.006016  0.006016  ...  0.006016  0.006016  0.006016   \n",
      "377  0.000087  0.000087  0.000087  ...  0.000087  0.000087  0.000087   \n",
      "378  0.000610  0.000610  0.000610  ...  0.000610  0.000610  0.000610   \n",
      "379  0.000262  0.000262  0.000262  ...  0.000262  0.000262  0.000262   \n",
      "\n",
      "         9660      9661      9662      9663      9664      9665      9666  \n",
      "0    0.001308  0.001308  0.002616  0.001308  0.001308  0.001308  0.001308  \n",
      "1    0.002267  0.002267  0.004534  0.002267  0.002267  0.002267  0.002267  \n",
      "2    0.002528  0.002528  0.005057  0.002528  0.002528  0.002528  0.002528  \n",
      "3    0.002354  0.002354  0.004708  0.002354  0.002354  0.002354  0.002354  \n",
      "4    0.001133  0.001133  0.002267  0.001133  0.001133  0.001133  0.001133  \n",
      "..        ...       ...       ...       ...       ...       ...       ...  \n",
      "375  0.008544  0.008544  0.017088  0.008544  0.008544  0.008544  0.008544  \n",
      "376  0.006016  0.006016  0.012031  0.006016  0.006016  0.006016  0.006016  \n",
      "377  0.000087  0.000087  0.000174  0.000087  0.000087  0.000087  0.000087  \n",
      "378  0.000610  0.000610  0.001221  0.000610  0.000610  0.000610  0.000610  \n",
      "379  0.000262  0.000262  0.000523  0.000262  0.000262  0.000262  0.000262  \n",
      "\n",
      "[380 rows x 9667 columns]\n"
     ]
    },
    {
     "data": {
      "image/png": "[encoded data removed]",
      "text/plain": [
       "<Figure size 144x144 with 1 Axes>"
      ]
     },
     "metadata": {
      "needs_background": "light"
     },
     "output_type": "display_data"
    },
    {
     "name": "stdout",
     "output_type": "stream",
     "text": [
      "\n",
      "_____________________\n",
      "\n",
      "bathrooms \n",
      "____________________\n",
      "\n"
     ]
    }
   ],
   "source": [
    "ex.explore_bivariate(train, target, cat_vars, quant_vars)"
   ]
  },
  {
   "cell_type": "code",
   "execution_count": null,
   "metadata": {},
   "outputs": [],
   "source": []
  }
 ],
 "metadata": {
  "kernelspec": {
   "display_name": "Python 3",
   "language": "python",
   "name": "python3"
  },
  "language_info": {
   "codemirror_mode": {
    "name": "ipython",
    "version": 3
   },
   "file_extension": ".py",
   "mimetype": "text/x-python",
   "name": "python",
   "nbconvert_exporter": "python",
   "pygments_lexer": "ipython3",
   "version": "3.8.5"
  }
 },
 "nbformat": 4,
 "nbformat_minor": 4
}
